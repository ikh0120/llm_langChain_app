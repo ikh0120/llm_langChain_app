{
 "cells": [
  {
   "cell_type": "markdown",
   "metadata": {},
   "source": [
    "### 문제 1-1: 기본 체인 만들기 - AI 요리사 해답\n",
    "\n",
    "## 환경 설정"
   ]
  },
  {
   "cell_type": "code",
   "execution_count": 1,
   "metadata": {},
   "outputs": [],
   "source": [
    "# 필요한 라이브러리 설치\n",
    "#%pip install -q langchain langchain-openai python-dotenv"
   ]
  },
  {
   "cell_type": "code",
   "execution_count": 2,
   "metadata": {},
   "outputs": [
    {
     "data": {
      "text/plain": [
       "True"
      ]
     },
     "execution_count": 2,
     "metadata": {},
     "output_type": "execute_result"
    }
   ],
   "source": [
    "# 환경 변수 설정\n",
    "from dotenv import load_dotenv\n",
    "import os\n",
    "\n",
    "# .env 파일에서 API 키 로드\n",
    "load_dotenv()\n",
    "\n",
    "#OPENAI_API_KEY = os.getenv(\"OPENAI_API_KEY\")"
   ]
  },
  {
   "cell_type": "code",
   "execution_count": 3,
   "metadata": {},
   "outputs": [],
   "source": [
    "# 필요한 라이브러리 import\n",
    "from langchain_core.prompts import PromptTemplate\n",
    "from langchain_openai import ChatOpenAI\n",
    "from langchain_core.output_parsers import StrOutputParser"
   ]
  },
  {
   "cell_type": "markdown",
   "metadata": {},
   "source": [
    "## 문제 1 해답 구현\n",
    "\n",
    "### 요구사항\n",
    "1. PromptTemplate 사용하여 프롬프트 작성\n",
    "2. 사용자가 입력한 재료를 받아서 요리 추천\n",
    "3. ChatOpenAI 모델 사용\n",
    "4. StrOutputParser로 결과를 문자열로 출력\n",
    "5. LCEL(|) 문법을 사용하여 체인 연결"
   ]
  },
  {
   "cell_type": "code",
   "execution_count": 5,
   "metadata": {},
   "outputs": [],
   "source": [
    "# 1. PromptTemplate 생성\n",
    "cooking_prompt = PromptTemplate.from_template(\n",
    "    \"\"\"\n",
    "당신은 친근하고 전문적인 AI 요리사입니다.\n",
    "사용자가 제공한 재료로 만들 수 있는 요리를 추천하고,\n",
    "상세한 레시피를 제공해주세요.\n",
    "\n",
    "재료: {ingredients}\n",
    "\n",
    "다음 형식으로 답변해주세요:\n",
    "- 추천 요리명\n",
    "- 필요한 재료 목록 (제공된 재료 포함)\n",
    "- 단계별 조리법\n",
    "- 조리 팁\n",
    "\n",
    "친근하고 따뜻한 톤으로 설명해주세요.\n",
    "\"\"\"\n",
    ")"
   ]
  },
  {
   "cell_type": "code",
   "execution_count": 6,
   "metadata": {},
   "outputs": [],
   "source": [
    "# 2. LLM 모델 초기화\n",
    "#llm = ChatOpenAI(model=\"gpt-3.5-turbo\", temperature=0.7)\n",
    "llm = ChatOpenAI(\n",
    "    #api_key=OPENAI_API_KEY,\n",
    "    base_url=\"https://api.groq.com/openai/v1\",  # Groq API 엔드포인트\n",
    "    model=\"meta-llama/llama-4-scout-17b-16e-instruct\",  # Spring AI와 동일한 모델\n",
    "    temperature=0.7\n",
    ")\n",
    "\n",
    "# 3. 출력 파서\n",
    "output_parser = StrOutputParser()\n",
    "\n",
    "# 4. 체인 생성 (LCEL 사용)\n",
    "cooking_chain = cooking_prompt | llm | output_parser"
   ]
  },
  {
   "cell_type": "code",
   "execution_count": 7,
   "metadata": {},
   "outputs": [
    {
     "name": "stdout",
     "output_type": "stream",
     "text": [
      "AI 요리사 - 재료 기반 요리 추천\n",
      "=====================================\n",
      "\n",
      "입력 재료: 계란, 밥, 김치\n",
      "\n",
      "AI 요리사의 추천:\n",
      "### 추천 요리명\n",
      "김치밥과 계란찜\n",
      "\n",
      "### 필요한 재료 목록\n",
      "- 계란 2개\n",
      "- 밥 1공기\n",
      "- 김치 1컵 (다진 김치)\n",
      "- 참기름 1테이블스푼\n",
      "- 소금 1/2 티스푼\n",
      "- 후추 1/4 티스푼\n",
      "- 물 1/2컵 (필요에 따라 조절)\n",
      "\n",
      "### 단계별 조리법\n",
      "1. **김치밥 만들기**\n",
      "   - 김치를 잘게 다져주세요.\n",
      "   - 팬에 참기름을 두르고 다진 김치를 넣어 볶아주세요. 김치가 약간 카라멜화되면 더 맛있어요!\n",
      "   - 볶아진 김치에 밥을 넣어 잘 섞어주세요. 소금과 후추로 간을 맞춰주세요.\n",
      "\n",
      "2. **계란찜 만들기**\n",
      "   - 계란을 깨뜨려 그릇에 넣고 잘 풀어주세요.\n",
      "   - 풀어진 계란에 물 1/2컵을 추가하고 소금과 후추로 간을 맞춰주세요.\n",
      "   - 계란 혼합물을 체에 밭쳐 거품이 없도록 잘 섞어주세요.\n",
      "\n",
      "3. **계란찜 조리**\n",
      "   - 찜기에 계란 혼합물을 붓고 뚜껑을 덮어주세요.\n",
      "   - 찜기를 10-12분 정도 가동해 계란찜을 만들어주세요. 계란찜이 익으면 부드럽고 촉촉해야 해요.\n",
      "\n",
      "4. **완성**\n",
      "   - 김치밥을 그릇에 담고 계란찜을 올려주세요.\n",
      "   - 맛있는 한 끼 식사가 준비되었습니다!\n",
      "\n",
      "### 조리 팁\n",
      "- 김치밥을 만들 때 김치를 충분히 볶아주면 더 깊은 맛이 납니다.\n",
      "- 계란찜을 만들 때 물의 양을 조절하면 찜의 질감을 조절할 수 있어요. 물을 더 많이 넣으면 더 촉촉하고, 적게 넣으면 더 단단한 찜을 만들 수 있습니다.\n",
      "- 계란찜이 더 부드럽게 익도록 중간에 한 번 저어주는 것도 좋아요.\n",
      "\n",
      "맛있는 식사하세요!\n"
     ]
    }
   ],
   "source": [
    "# 5. 테스트 실행\n",
    "try:\n",
    "    ingredients = \"계란, 밥, 김치\"\n",
    "    result = cooking_chain.invoke({\"ingredients\": ingredients})\n",
    "    \n",
    "    print(\"AI 요리사 - 재료 기반 요리 추천\")\n",
    "    print(\"=====================================\")\n",
    "    print(f\"\\n입력 재료: {ingredients}\")\n",
    "    print(\"\\nAI 요리사의 추천:\")\n",
    "    print(result)\n",
    "    \n",
    "except Exception as e:\n",
    "    print(f\"오류 발생: {e}\")"
   ]
  },
  {
   "cell_type": "markdown",
   "metadata": {},
   "source": [
    "## 추가 테스트"
   ]
  },
  {
   "cell_type": "code",
   "execution_count": 8,
   "metadata": {},
   "outputs": [
    {
     "name": "stdout",
     "output_type": "stream",
     "text": [
      "다른 재료로 테스트:\n",
      "===================\n",
      "\n",
      "입력 재료: 토마토, 양파, 치즈\n",
      "\n",
      "AI 요리사의 추천:\n",
      "### 추천 요리명: 치즈 토마토 오븐구이\n",
      "\n",
      "### 필요한 재료 목록:\n",
      "- 토마토\n",
      "- 양파\n",
      "- 치즈 (모짜렐라 치즈 또는 슈레드 치즈 추천)\n",
      "- 올리브 오일\n",
      "- 소금\n",
      "- 후추\n",
      "- 신선한 바질 (선택 사항)\n",
      "\n",
      "### 단계별 조리법:\n",
      "\n",
      "1. **재료 준비하기:**\n",
      "   - 토마토를 깨끗이 씻고, 꼭지를 제거한 후 반으로 자릅니다.\n",
      "   - 양파를 얇게 썰어줍니다.\n",
      "   - 치즈는 모짜렐라 치즈를 사용할 경우 잘게 찢어주고, 슈레드 치즈는 바로 사용할 수 있습니다.\n",
      "\n",
      "2. **오븐 예열하기:**\n",
      "   - 오븐을 180°C로 예열해 줍니다.\n",
      "\n",
      "3. **토마토와 양파 준비하기:**\n",
      "   - 큰 그릇에 토마토와 양파를 담습니다.\n",
      "   - 올리브 오일을 뿌리고 소금과 후추로 간을 맞춰줍니다.\n",
      "   - 토마토와 양파가 잘 섞이도록 살살 버무려줍니다.\n",
      "\n",
      "4. **오븐용 그릇에 담기:**\n",
      "   - 오븐용 그릇이나 베이킹 디시에 토마토와 양파를 깔아줍니다.\n",
      "\n",
      "5. **치즈 추가하기:**\n",
      "   - 준비한 토마토와 양파 위에 치즈를 고르게 뿌려줍니다.\n",
      "\n",
      "6. **오븐에 구우기:**\n",
      "   - 예열된 오븐에 토마토와 치즈 혼합물을 넣고 15-20분 정도 구워줍니다. 치즈가 녹고 황금빛으로 변할 때까지 구워주세요.\n",
      "\n",
      "7. **마무리:**\n",
      "   - 구운 후 오븐에서 꺼내어 신선한 바질로 장식합니다 (선택 사항).\n",
      "\n",
      "### 조리 팁:\n",
      "- **치즈 선택:** 모짜렐라 치즈는 부드럽고 크리미한 맛이 나서 추천합니다. 슈레드 치즈도 잘 녹고 맛있습니다.\n",
      "- **토마토 신선도:** 신선한 토마토를 사용하면 더 맛있는 요리가 됩니다. 가능하면 유기농 토마토를 사용하는 것이 좋습니다.\n",
      "- **양파 양:** 양파를 조금만 사용해도 충분한 맛을 낼 수 있습니다. 기호에 따라 양을 조절해 보세요.\n",
      "- **추가 재료:** 마늘, 고추, 허브 등 다양한 재료를 추가하여 더 풍부한 맛을 낼 수 있습니다.\n",
      "\n",
      "이제 집에서 간단하게 치즈 토마토 오븐구이를 만들어 보세요! 아주 쉽고 맛있는 요리랍니다.\n"
     ]
    }
   ],
   "source": [
    "# 추가 테스트 - 다른 재료로 실행\n",
    "other_ingredients = \"토마토, 양파, 치즈\"\n",
    "other_result = cooking_chain.invoke({\"ingredients\": other_ingredients})\n",
    "\n",
    "print(\"다른 재료로 테스트:\")\n",
    "print(\"===================\")\n",
    "print(f\"\\n입력 재료: {other_ingredients}\")\n",
    "print(\"\\nAI 요리사의 추천:\")\n",
    "print(other_result)"
   ]
  },
  {
   "cell_type": "markdown",
   "metadata": {},
   "source": [
    "## 학습 정리\n",
    "\n",
    "### 문제 1에서 배운 핵심 개념\n",
    "1. **PromptTemplate**: 동적 변수를 포함한 프롬프트 생성\n",
    "2. **LCEL 문법**: `|` 연산자를 사용한 체인 연결\n",
    "3. **기본 체인 구조**: prompt → llm → output_parser\n",
    "4. **invoke() 메서드**: 체인 실행 및 결과 반환\n",
    "\n",
    "### 구현 완료 사항\n",
    "- PromptTemplate 사용\n",
    "- 재료 입력 처리\n",
    "- ChatOpenAI 모델 활용\n",
    "- StrOutputParser로 문자열 출력\n",
    "- LCEL 문법으로 체인 연결\n",
    "- 요리 추천 및 레시피 제공\n",
    "- 오류 처리 구현"
   ]
  },
  {
   "cell_type": "markdown",
   "metadata": {},
   "source": []
  }
 ],
 "metadata": {
  "kernelspec": {
   "display_name": "langchain-basic-kGdHTiMZ-py3.12",
   "language": "python",
   "name": "python3"
  },
  "language_info": {
   "codemirror_mode": {
    "name": "ipython",
    "version": 3
   },
   "file_extension": ".py",
   "mimetype": "text/x-python",
   "name": "python",
   "nbconvert_exporter": "python",
   "pygments_lexer": "ipython3",
   "version": "3.12.7"
  }
 },
 "nbformat": 4,
 "nbformat_minor": 4
}
