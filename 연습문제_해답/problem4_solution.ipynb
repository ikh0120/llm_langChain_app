{
 "cells": [
  {
   "cell_type": "code",
   "execution_count": 1,
   "id": "4a4628d4",
   "metadata": {},
   "outputs": [
    {
     "name": "stderr",
     "output_type": "stream",
     "text": [
      "c:\\Users\\user\\AppData\\Local\\pypoetry\\Cache\\virtualenvs\\langchain-basic-kGdHTiMZ-py3.12\\Lib\\site-packages\\requests\\__init__.py:86: RequestsDependencyWarning: Unable to find acceptable character detection dependency (chardet or charset_normalizer).\n",
      "  warnings.warn(\n"
     ]
    }
   ],
   "source": [
    "from langchain_ollama import ChatOllama\n",
    "from langchain_community.document_loaders import PyPDFLoader\n",
    "from langchain.text_splitter import RecursiveCharacterTextSplitter\n",
    "from langchain_community.vectorstores import FAISS\n",
    "from langchain_huggingface import HuggingFaceEmbeddings\n",
    "from langchain.chains import RetrievalQA\n",
    "from langchain.prompts import PromptTemplate\n",
    "import time\n",
    "\n",
    "# 모델 일관성을 위한 상수 정의\n",
    "MODEL_NAME = \"qwen3:1.7b\"\n",
    "BASE_URL = \"http://localhost:11434\"\n",
    "EMBEDDING_MODEL_NAME = \"sentence-transformers/paraphrase-multilingual-MiniLM-L12-v2\""
   ]
  },
  {
   "cell_type": "code",
   "execution_count": 2,
   "id": "aa5c6905",
   "metadata": {},
   "outputs": [
    {
     "name": "stdout",
     "output_type": "stream",
     "text": [
      "============================================================\n",
      " 로컬 RAG 시스템 초기화\n",
      "============================================================\n",
      "==> 1. 문서 로딩 → PDF 읽기...\n",
      "총 39페이지 로드 완료\n"
     ]
    }
   ],
   "source": [
    "print(\"=\" * 60)\n",
    "print(\" 로컬 RAG 시스템 초기화\")\n",
    "print(\"=\" * 60)\n",
    "\n",
    "# 1. 문서 로딩\n",
    "print(\"==> 1. 문서 로딩 → PDF 읽기...\")\n",
    "try:\n",
    "    loader = PyPDFLoader('../data/tutorial-korean.pdf')\n",
    "    documents = loader.load()\n",
    "    print(f\"총 {len(documents)}페이지 로드 완료\")\n",
    "except Exception as e:\n",
    "    print(f\"PDF 로딩 실패: {e}\")\n",
    "    print(\"'../data/tutorial-korean.pdf' 파일이 존재하는지 확인해주세요.\")\n",
    "    exit(1)\n"
   ]
  },
  {
   "cell_type": "code",
   "execution_count": 3,
   "id": "72adcdcc",
   "metadata": {},
   "outputs": [
    {
     "name": "stdout",
     "output_type": "stream",
     "text": [
      "==> 2. 문서 분할 → 작은 청크로 나누기\n",
      "76개 청크 생성 완료\n",
      "평균 청크 길이: 605자\n"
     ]
    }
   ],
   "source": [
    "\n",
    "# 2. 문서 분할\n",
    "print(\"==> 2. 문서 분할 → 작은 청크로 나누기\")\n",
    "text_splitter = RecursiveCharacterTextSplitter(\n",
    "    chunk_size=800,\n",
    "    chunk_overlap=150,\n",
    "    separators=[\"\\n\\n\", \"\\n\", \".\", \" \", \"\"]\n",
    ")\n",
    "\n",
    "chunks = text_splitter.split_documents(documents)\n",
    "print(f\"{len(chunks)}개 청크 생성 완료\")\n",
    "print(f\"평균 청크 길이: {sum(len(chunk.page_content) for chunk in chunks) / len(chunks):.0f}자\")"
   ]
  },
  {
   "cell_type": "code",
   "execution_count": 4,
   "id": "2a0fc478",
   "metadata": {},
   "outputs": [
    {
     "name": "stdout",
     "output_type": "stream",
     "text": [
      "==> 3. 임베딩 설정...\n",
      "임베딩 모델 다운로드 중... (최초 실행 시 시간이 소요됩니다)\n"
     ]
    },
    {
     "name": "stderr",
     "output_type": "stream",
     "text": [
      "c:\\Users\\user\\AppData\\Local\\pypoetry\\Cache\\virtualenvs\\langchain-basic-kGdHTiMZ-py3.12\\Lib\\site-packages\\tqdm\\auto.py:21: TqdmWarning: IProgress not found. Please update jupyter and ipywidgets. See https://ipywidgets.readthedocs.io/en/stable/user_install.html\n",
      "  from .autonotebook import tqdm as notebook_tqdm\n"
     ]
    },
    {
     "name": "stdout",
     "output_type": "stream",
     "text": [
      "HuggingFace 임베딩 모델 설정 완료\n"
     ]
    }
   ],
   "source": [
    "\n",
    "# 3. 임베딩 설정\n",
    "print(\"==> 3. 임베딩 설정...\")\n",
    "print(\"임베딩 모델 다운로드 중... (최초 실행 시 시간이 소요됩니다)\")\n",
    "try:\n",
    "    embeddings = HuggingFaceEmbeddings(\n",
    "        model_name=EMBEDDING_MODEL_NAME,\n",
    "        model_kwargs={'device': 'cpu'},\n",
    "        encode_kwargs={'normalize_embeddings': True}\n",
    "    )\n",
    "    print(\"HuggingFace 임베딩 모델 설정 완료\")\n",
    "except Exception as e:\n",
    "    print(f\"임베딩 모델 설정 실패: {e}\")\n",
    "    print(\"인터넷 연결을 확인하거나 다음 패키지를 설치해주세요:\")\n",
    "    print(\"pip install sentence-transformers\")\n",
    "    exit(1)"
   ]
  },
  {
   "cell_type": "code",
   "execution_count": 5,
   "id": "5d4b16f1",
   "metadata": {},
   "outputs": [
    {
     "name": "stdout",
     "output_type": "stream",
     "text": [
      "==> 4. 벡터스토어 생성...\n",
      "임베딩 생성 중... (시간이 소요됩니다)\n",
      "FAISS 벡터스토어 생성 완료 (76개 벡터)\n",
      "임베딩 소요 시간: 1.8초\n"
     ]
    }
   ],
   "source": [
    "\n",
    "# 4. 벡터스토어 생성\n",
    "print(\"==> 4. 벡터스토어 생성...\")\n",
    "print(\"임베딩 생성 중... (시간이 소요됩니다)\")\n",
    "\n",
    "start_time = time.time()\n",
    "try:\n",
    "    vectorstore = FAISS.from_documents(chunks, embeddings)\n",
    "    embedding_time = time.time() - start_time\n",
    "    print(f\"FAISS 벡터스토어 생성 완료 ({len(chunks)}개 벡터)\")\n",
    "    print(f\"임베딩 소요 시간: {embedding_time:.1f}초\")\n",
    "except Exception as e:\n",
    "    print(f\"벡터스토어 생성 실패: {e}\")\n",
    "    print(\"모델이 설치되어 있는지 확인해주세요: ollama pull qwen3:1.7b\")\n",
    "    exit(1)\n"
   ]
  },
  {
   "cell_type": "code",
   "execution_count": 6,
   "id": "dbe3f76e",
   "metadata": {},
   "outputs": [
    {
     "name": "stdout",
     "output_type": "stream",
     "text": [
      "==> 5. 검색기 설정...\n",
      "검색기 설정 완료\n",
      "==> 6. LLM 설정...\n",
      "LLM 설정 완료\n"
     ]
    }
   ],
   "source": [
    "\n",
    "# 5. 검색기 설정\n",
    "print(\"==> 5. 검색기 설정...\")\n",
    "retriever = vectorstore.as_retriever(\n",
    "    search_type=\"similarity\",\n",
    "    search_kwargs={\"k\": 3}\n",
    ")\n",
    "print(\"검색기 설정 완료\")\n",
    "\n",
    "# 6. LLM 설정\n",
    "print(\"==> 6. LLM 설정...\")\n",
    "try:\n",
    "    llm = ChatOllama(\n",
    "        model=MODEL_NAME,\n",
    "        temperature=0.1,\n",
    "        num_predict=800\n",
    "    )\n",
    "    print(\"LLM 설정 완료\")\n",
    "except Exception as e:\n",
    "    print(f\"LLM 설정 실패: {e}\")\n",
    "    exit(1)\n"
   ]
  },
  {
   "cell_type": "code",
   "execution_count": 7,
   "id": "bc1c79cb",
   "metadata": {},
   "outputs": [
    {
     "name": "stdout",
     "output_type": "stream",
     "text": [
      "==> 7. 프롬프트 설정...\n",
      "프롬프트 설정 완료\n"
     ]
    }
   ],
   "source": [
    "\n",
    "# 7. 프롬프트 설정\n",
    "print(\"==> 7. 프롬프트 설정...\")\n",
    "prompt_template = \"\"\"당신은 BlueJ 프로그래밍 환경 전문가입니다.\n",
    "아래 문서 내용을 바탕으로 정확하고 친절한 답변을 제공해주세요.\n",
    "\n",
    "문서 내용:\n",
    "{context}\n",
    "\n",
    "질문: {question}\n",
    "\n",
    "답변 규칙:\n",
    "1. 문서 내용만을 근거로 답변하세요\n",
    "2. 단계별로 설명하세요  \n",
    "3. 구체적인 메뉴명, 버튼명을 포함하세요\n",
    "4. 문서에 없는 정보는 \"문서에서 찾을 수 없습니다\"라고 하세요\n",
    "\n",
    "답변:\"\"\"\n",
    "\n",
    "prompt = PromptTemplate(\n",
    "    template=prompt_template,\n",
    "    input_variables=[\"context\", \"question\"]\n",
    ")\n",
    "print(\"프롬프트 설정 완료\")\n"
   ]
  },
  {
   "cell_type": "code",
   "execution_count": 8,
   "id": "ac8f2fc5",
   "metadata": {},
   "outputs": [
    {
     "name": "stdout",
     "output_type": "stream",
     "text": [
      "==> 8. QA 체인 생성...\n",
      "RAG 파이프라인 구축 완료\n"
     ]
    }
   ],
   "source": [
    "\n",
    "# 8. QA 체인 생성\n",
    "print(\"==> 8. QA 체인 생성...\")\n",
    "try:\n",
    "    qa_chain = RetrievalQA.from_chain_type(\n",
    "        llm=llm,\n",
    "        chain_type=\"stuff\",\n",
    "        retriever=retriever,\n",
    "        chain_type_kwargs={\"prompt\": prompt},\n",
    "        return_source_documents=True\n",
    "    )\n",
    "    print(\"RAG 파이프라인 구축 완료\")\n",
    "except Exception as e:\n",
    "    print(f\"QA 체인 생성 실패: {e}\")\n",
    "    exit(1)\n"
   ]
  },
  {
   "cell_type": "code",
   "execution_count": 9,
   "id": "44969472",
   "metadata": {},
   "outputs": [
    {
     "name": "stdout",
     "output_type": "stream",
     "text": [
      "\n",
      "============================================================\n",
      " 로컬 RAG 시스템 테스트\n",
      "============================================================\n",
      "\n",
      "【테스트 1/2】\n",
      "질문: BlueJ에서 객체를 생성하는 방법은 무엇인가요?\n",
      "답변 생성 중...\n",
      "\n",
      "답변: (응답시간: 8.4초)\n",
      "--------------------------------------------------\n",
      "<think>\n",
      "Okay, let's see. The user is asking how to create an object in BlueJ. I need to base the answer strictly on the provided document. Let me check the document again.\n",
      "\n",
      "The document mentions that BlueJ is a Java development environment, and it talks about opening non-BlueJ packages, adding classes from files, and other features. But there's no direct instruction on creating objects. The sections 1.1 and 1.2 discuss the environment, features, and usage, but not object creation.\n",
      "\n",
      "Wait, maybe the user is assuming that creating objects is part of the environment, but according to the document, the main features are about opening packages, adding classes, and other tools. There's no mention of object creation steps. So the answer should state that the document doesn't provide information on creating objects, as it focuses on other aspects like project management and class addition.\n",
      "\n",
      "I need to make sure not to include any information not in the document. The answer should mention that the document doesn't cover object creation and list the available features instead.\n",
      "</think>\n",
      "\n",
      "문서에서 BlueJ에서 객체를 생성하는 방법에 대한 구체적인 설명은 없으며, 주로 프로젝트 관리, 클래스 추가, 패키지 오픈 등 다른 기능에 초점을 맞추고 있습니다. 따라서, 객체 생성에 대한 명확한 단계별 설명은 문서에서 찾을 수 없습니다.  \n",
      "\n",
      "만약 BlueJ를 사용하여 객체를 생성하려면 다음 단계를 따르면 됩니다:  \n",
      "1. **프로젝트 오픈**: 프로젝트를 열고 작업할 디렉토리를 선택합니다.  \n",
      "2. **클래스 추가**: 외부에서 만들어진 클래스를 프로젝트에 추가하거나, `Edit - Add Class from File...` 메뉴를 통해 파일을 선택하여 끼워 넣습니다.  \n",
      "3. **객체 생성**: 추가된 클래스 내에서 `new` 키워드를 사용하여 객체를 생성합니다. 예: `Person p = new Person();`  \n",
      "\n",
      "이러한 과정은 문서에서 언급하지 않은 일반적인 Java 개발 흐름에 해당하며, BlueJ의 주요 기능 중 하나입니다. 문서는 BlueJ의 기본 기능만 간략히 설명하고 있습니다.\n",
      "\n",
      "참조 문서:\n",
      "   1. 페이지 3: 4 1. 서문 1.1. BlueJ의 소개 본 튜토리얼은 BlueJ 프로그래밍 환경을 사용하...\n",
      "   2. 페이지 33: 34 10.기타 기능들 10.1. BlueJ로 만들지 않은 패키지 오픈하기   BlueJ는...\n",
      "\n",
      "----------------------------------------\n",
      "\n",
      "【테스트 2/2】\n",
      "질문: 컴파일 오류가 발생했을 때 어떻게 확인할 수 있나요?\n",
      "답변 생성 중...\n",
      "\n",
      "답변: (응답시간: 7.2초)\n",
      "--------------------------------------------------\n",
      "<think>\n",
      "Okay, let's tackle this question. The user is asking how to check for a compilation error using BlueJ. From the provided document, I need to outline the steps based on the content given.\n",
      "\n",
      "First, the document mentions that when a compilation error occurs, you can use the debugger to inspect the code. But wait, the user is asking about compilation errors, not runtime errors. The document talks about debugging during runtime, but not compilation. Hmm, the user might be confused. Let me check the document again.\n",
      "\n",
      "Looking at the document, the sections mention debugging during runtime, like setting breakpoints, stepping through code, etc. There's no mention of compilation errors. The user's question is about compilation errors, which are different from runtime errors. The document doesn't provide specific steps for handling compilation errors. So, according to the rules, I should mention that the document doesn't have information on this.\n",
      "\n",
      "But the user might expect a response based on the available content. Since the document doesn't cover compilation errors, I need to state that. However, the user might still want to know the general approach for debugging, which is what the document discusses. But the question is specifically about compilation errors, which aren't covered here. So, the answer should note that the document doesn't provide information on compilation errors and list the steps related to runtime debugging instead.\n",
      "</think>\n",
      "\n",
      "문서에서 컴파일 오류를 확인하는 방법은 언급되지 않았습니다. 그러나 BlueJ를 사용하여 소스코드의 실행 중단점(중단점 영역)을 설정하고, 단계별 실행(Step 버튼)을 통해 오류가 발생한 라인을 확인하는 방법을 설명할 수 있습니다.  \n",
      "\n",
      "### 단계별 설명:  \n",
      "1. **중단점 설정**:  \n",
      "   - 편집기에서 소스코드의 왼쪽 부분(중단점 영역)에 마우스 왼쪽 버튼을 클릭하여 중단점을 설정합니다.  \n",
      "   - 예: `places = myCar.seats();` 라인에 중단점을 설정합니다.  \n",
      "\n",
      "2. **단계별 실행(Step 버튼)**:  \n",
      "   - 중단점을 클릭하여 실행 중단 상태를 유지합니다.  \n",
      "   - Step 버튼을 클릭하면 코드의 한 라인씩 실행되고, 오류가 발생한 라인을 확인할 수 있습니다.  \n",
      "\n",
      "3. **오류 확인**:  \n",
      "   - 실행 중단 시 소스코드의 라인 변화와 변수 값의 변화를 통해 오류 원인을 파악할 수 있습니다.  \n",
      "\n",
      "4. **중단점 제거**:  \n",
      "   - 오류 해결 후에는 중단점을 다시 클릭하여 stop 표시를 제거하고, Continue 버튼을 클릭하여 실행을 이어갑니다.  \n",
      "\n",
      "### 요약:  \n",
      "문서에서는 컴파일 오류 자체를 확인하는 방법이 아닌, 실행 중단 시 오류가 발생한 라인을 분석하는 방법만 언급했습니다. 컴파일 오류는 소스코드의 오류를 확인해야 하며, BlueJ는 실행 중단과 단계별 실행을 통해 오류 원인을 파악할 수 있습니다.  \n",
      "\n",
      "**문서에서 찾을 수 없습니다**.\n",
      "\n",
      "참조 문서:\n",
      "   1. 페이지 25: 프로그램 실행이 일시 중단 되면, 프로그램 실행에 의해 생성되어 실행중인 객체들의 현재  ...\n",
      "   2. 페이지 27: 28 7.2. 코드의 단계별 실행 현재 실행을 일시 중지한 상태이며(메소드는 실제로 실행이...\n",
      "\n",
      "----------------------------------------\n",
      "\n",
      "테스트 완료! (총 소요시간: 15.6초)\n"
     ]
    }
   ],
   "source": [
    "\n",
    "# 9. 테스트 실행\n",
    "print(\"\\n\" + \"=\" * 60)\n",
    "print(\" 로컬 RAG 시스템 테스트\")\n",
    "print(\"=\" * 60)\n",
    "\n",
    "test_questions = [\n",
    "    \"BlueJ에서 객체를 생성하는 방법은 무엇인가요?\",\n",
    "    \"컴파일 오류가 발생했을 때 어떻게 확인할 수 있나요?\"\n",
    "]\n",
    "\n",
    "total_start_time = time.time()\n",
    "\n",
    "for i, question in enumerate(test_questions, 1):\n",
    "    print(f\"\\n【테스트 {i}/{len(test_questions)}】\")\n",
    "    print(f\"질문: {question}\")\n",
    "    print(\"답변 생성 중...\")\n",
    "    \n",
    "    question_start_time = time.time()\n",
    "    \n",
    "    try:\n",
    "        result = qa_chain.invoke({\"query\": question})\n",
    "        answer = result[\"result\"]\n",
    "        source_docs = result[\"source_documents\"]\n",
    "        \n",
    "        question_time = time.time() - question_start_time\n",
    "        \n",
    "        print(f\"\\n답변: (응답시간: {question_time:.1f}초)\")\n",
    "        print(\"-\" * 50)\n",
    "        print(answer)\n",
    "        \n",
    "        print(f\"\\n참조 문서:\")\n",
    "        for j, doc in enumerate(source_docs[:2], 1):\n",
    "            page = doc.metadata.get('page', 'N/A')\n",
    "            preview = doc.page_content[:50].replace('\\n', ' ')\n",
    "            print(f\"   {j}. 페이지 {page}: {preview}...\")\n",
    "            \n",
    "    except Exception as e:\n",
    "        print(f\"답변 생성 실패: {e}\")\n",
    "    \n",
    "    print(\"\\n\" + \"-\" * 40)\n",
    "\n",
    "total_time = time.time() - total_start_time\n",
    "print(f\"\\n테스트 완료! (총 소요시간: {total_time:.1f}초)\")\n"
   ]
  },
  {
   "cell_type": "code",
   "execution_count": null,
   "id": "bc207cf3",
   "metadata": {},
   "outputs": [],
   "source": [
    "\n",
    "# 10. 대화형 모드\n",
    "print(\"\\n\" + \"=\" * 60)\n",
    "print(\" 대화형 모드 (종료: 'quit' 입력)\")\n",
    "print(\"=\" * 60)\n",
    "\n",
    "while True:\n",
    "    try:\n",
    "        user_question = input(\"\\n질문을 입력하세요: \").strip()\n",
    "        \n",
    "        if user_question.lower() in ['quit', 'exit', '종료', 'q']:\n",
    "            print(\"RAG 시스템을 종료합니다.\")\n",
    "            break\n",
    "            \n",
    "        if not user_question:\n",
    "            continue\n",
    "            \n",
    "        print(\"답변 생성 중...\")\n",
    "        start_time = time.time()\n",
    "        \n",
    "        result = qa_chain.invoke({\"query\": user_question})\n",
    "        answer = result[\"result\"]\n",
    "        response_time = time.time() - start_time\n",
    "        \n",
    "        print(f\"\\n답변: (응답시간: {response_time:.1f}초)\")\n",
    "        print(\"-\" * 50)\n",
    "        print(answer)\n",
    "        \n",
    "    except KeyboardInterrupt:\n",
    "        print(\"\\nRAG 시스템을 종료합니다.\")\n",
    "        break\n",
    "    except Exception as e:\n",
    "        print(f\"오류 발생: {e}\")\n",
    "\n",
    "print(\"\\n로컬 RAG 시스템 세션 종료!\")"
   ]
  }
 ],
 "metadata": {
  "kernelspec": {
   "display_name": "langchain-basic-kGdHTiMZ-py3.12",
   "language": "python",
   "name": "python3"
  },
  "language_info": {
   "codemirror_mode": {
    "name": "ipython",
    "version": 3
   },
   "file_extension": ".py",
   "mimetype": "text/x-python",
   "name": "python",
   "nbconvert_exporter": "python",
   "pygments_lexer": "ipython3",
   "version": "3.12.7"
  }
 },
 "nbformat": 4,
 "nbformat_minor": 5
}
