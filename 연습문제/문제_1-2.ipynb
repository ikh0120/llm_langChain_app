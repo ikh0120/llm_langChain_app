{
 "cells": [
  {
   "cell_type": "markdown",
   "id": "08c712ac",
   "metadata": {},
   "source": [
    "### 문제 1-2 : 2단계 체인 만들기 - 영화 추천 시스템 "
   ]
  },
  {
   "cell_type": "code",
   "execution_count": 96,
   "id": "bc93f966",
   "metadata": {},
   "outputs": [
    {
     "name": "stdout",
     "output_type": "stream",
     "text": [
      "gs\n"
     ]
    }
   ],
   "source": [
    "import os\n",
    "from dotenv import load_dotenv\n",
    "from langchain_core.prompts import ChatPromptTemplate\n",
    "from langchain_openai import ChatOpenAI\n",
    "from langchain_core.output_parsers import StrOutputParser\n",
    "from langchain_core.prompts import PromptTemplate\n",
    "\n",
    "load_dotenv()\n",
    "OPENAI_API_KEY = os.getenv(\"OPENAI_API_KEY\")\n",
    "print(OPENAI_API_KEY[:2]) # gs출력 성공공"
   ]
  },
  {
   "cell_type": "code",
   "execution_count": 97,
   "id": "21bc94d3",
   "metadata": {},
   "outputs": [],
   "source": [
    "prompt1 = ChatPromptTemplate(\n",
    "    [(\"system\", \"추천 영화 제목과 간단한 설명을 해주세요. \"),\n",
    "    (\"human\", \"{genre} 장르의 영화 한 편을 추천해주세요\")]\n",
    ")\n",
    "prompt2 = ChatPromptTemplate(\n",
    "    [(\"system\", \"영화의 정보(감독, 줄거리, 등장인물)들을 알려주세요. \"),\n",
    "    (\"human\", \"\"\"\n",
    "        {movie} 줄거리를 3줄로 요약해주시고, 한 줄 씩 띄어서 출력해주시는데 밑의 형식에 맞춰 출력해주세요. \n",
    "        형식은 이겁니다. \n",
    "        '영화: 영화 제목\n",
    "        줄거리: \n",
    "        1. 줄거리_1\n",
    "        2. 줄거리_2\n",
    "        3. 줄거리_3'\n",
    "        \"\"\")]\n",
    ")\n"
   ]
  },
  {
   "cell_type": "code",
   "execution_count": 98,
   "id": "fcafe54c",
   "metadata": {},
   "outputs": [],
   "source": [
    "llm = ChatOpenAI(\n",
    "    base_url=\"https://api.groq.com/openai/v1\",\n",
    "    model=\"meta-llama/llama-4-scout-17b-16e-instruct\",\n",
    "    temperature=1.2\n",
    ")"
   ]
  },
  {
   "cell_type": "code",
   "execution_count": 99,
   "id": "7a90be9f",
   "metadata": {},
   "outputs": [],
   "source": [
    "try:\n",
    "    chain1 = prompt1 | llm | StrOutputParser()\n",
    "    chain2 = (\n",
    "        {\"movie\": chain1}\n",
    "        | prompt2\n",
    "        | llm\n",
    "        | StrOutputParser()\n",
    "    )\n",
    "except Exception as e:\n",
    "    print(f\"예외: {e}\")"
   ]
  },
  {
   "cell_type": "code",
   "execution_count": 100,
   "id": "5db533f0",
   "metadata": {},
   "outputs": [
    {
     "name": "stdout",
     "output_type": "stream",
     "text": [
      "1\n",
      "영화: 매트릭스\n",
      "\n",
      "줄거리:\n",
      "1. 인류는 가상 현실인 매트릭스에서 벗어나기 위해 컴퓨터 해커 네오를 선택한 '오라클'과 그를 노리는 거대 기업의 요원 '에이전트 스미스'와의 대결을 그립니다.\n",
      "\n",
      "2. 주인공 네오는 오라클의 예언을 받은 후, 매트릭스에서 벗어나 현실 세계를 경험하게 되며, 모피어스와 그의 동료들의 도움을 받아 매트릭스의 비밀을 파헤치게 됩니다.\n",
      "\n",
      "3. 네오는 에이전트 스미스와의 최종 대결에서 인류를 구하기 위해 매트릭스로부터 자유를 얻고, 진정한 현실을 찾기 위한 여정에 나서게 됩니다.\n",
      "\n",
      "\n",
      "\n",
      "2\n",
      "영화: 노트북 (The Notebook, 2004)\n",
      "\n",
      "줄거리: \n",
      "\n",
      "1. 노아(라이언 고슬링)는 아름다운 앨리(레이철 맥아담스)를 보고 첫눈에 반해 열정적으로 구애하며 사랑을 표현하지만, 앨리는 노아를 떠나고 노아는  노트북에 모든 사랑을 담아 앨리에게 보냅니다.\n",
      "\n",
      "2. 노아는 앨리를 만나기 위해 1년 동안 노트북에 편지를 매일 써서 보내고, 앨리는 읽지않고 보관만해왔지만 마침내 연락이 닿고 노아는 앨리를 찾아가 마음을 다시 확인하고 사랑을 싹 틔웁니다.\n",
      "\n",
      "3. 하지만 앨리의 부모는 노아의 신분이 좋지않다는 이유로 둘의 만남을 반대하고, 노아는 군대에 가게 되는데 앨리는 다른 사람과 결혼을 준비하며 노아를 떠나게 됩니다.\n",
      "\n",
      "\n",
      "\n",
      "3\n",
      "영화: 파라노말 액티비티\n",
      "\n",
      "줄거리: \n",
      "1. 영화는 주인공 커플인 미카엘(케이티 리더)와 크리스(미카엘 쇼프링)가 집에서 일어나는 기이한 현상을 캠코더로 촬영하면서 시작됩니다. \n",
      "\n",
      "2. 처음에는 사소한 물건이 움직이거나 문이 열리는 등의 작은 현상들이 나타나지만, 시간이 지날수록 그 정도가 심해지고 빈번해집니다.\n",
      "\n",
      "3. 영화의 클라이맥스는 커플이 잠을 자던 중 괴한이 방에 침입하여 미카엘을 공격하고, 크리스가 이를 구하기 위해 몸부림치던 중, 미카엘이 괴한에 의해 납치되는 장면으로 마무리됩니다.\n",
      "\n",
      "\n",
      "\n"
     ]
    }
   ],
   "source": [
    "movie_genre = [\"액션\", \"로맨스\", \"공포\"]\n",
    "i=1\n",
    "for genre in movie_genre:\n",
    "    print(i)\n",
    "    print(chain2.invoke({\"genre\":genre}))\n",
    "    print(\"\\n\\n\")\n",
    "    i += 1"
   ]
  },
  {
   "cell_type": "code",
   "execution_count": 101,
   "id": "bcc2af93",
   "metadata": {},
   "outputs": [
    {
     "name": "stdout",
     "output_type": "stream",
     "text": [
      "영화: 존 윅\n",
      "\n",
      "줄거리: \n",
      "\n",
      "1. 전직 암살자 존 윅은 은퇴 후 평화로운 삶을 살고 있지만, 옛 동료의 개를 강도들이 죽이자 분노합니다.\n",
      "\n",
      "2. 존 윅은 은퇴를 깨고 암살 세계로 복귀하여 개를 죽인 강도들을 상대로 복수를 시작합니다.\n",
      "\n",
      "3. 그는 고속 촬영과 화려한 액션 시퀀스로 무장한 채, 암살 세계의 고수들을 상대로 싸우며 자신의 힘을 과시합니다.\n"
     ]
    }
   ],
   "source": [
    "result1 = chain2.invoke({\"genre\":\"액션\"})\n",
    "print(result1)"
   ]
  },
  {
   "cell_type": "code",
   "execution_count": 102,
   "id": "b0abf9d2",
   "metadata": {},
   "outputs": [
    {
     "name": "stdout",
     "output_type": "stream",
     "text": [
      "영화: 노트북 \n",
      "\n",
      "줄거리: \n",
      "1. 듀크는 기차에서 우연히 노트를 읽고 있는 Allie 해밀턴에게 반한 것으로 시작합니다.\n",
      "2. Allie와 듀크는 여름을 함께 보내며 열렬한 사랑에 빠지게 되고, 헤어져도 이별은 영원하지 않습니다.\n",
      "3. 몇 년 후 이들의 재회와 러브스토리는 많은 감동을 일으킵니다.\n"
     ]
    }
   ],
   "source": [
    "result2 = chain2.invoke({\"genre\":\"로맨스\"})\n",
    "print(result2)"
   ]
  },
  {
   "cell_type": "code",
   "execution_count": 103,
   "id": "3cad92e4",
   "metadata": {},
   "outputs": [
    {
     "name": "stdout",
     "output_type": "stream",
     "text": [
      "영화: 겟 아웃\n",
      "\n",
      "줄거리: \n",
      "\n",
      "1. 크리스는 백인 여자 친구 로즈의 가족을 만나러 그들의 외딴 별장으로 향합니다.\n",
      "\n",
      "2. 처음에는 별장에 도착한 크리스가 로즈의 가족과 즐거운 시간을 보내는 듯하지만, 곧 크리스는 기이하고 소름 끼치는 사건들이 벌어지기 시작한다는 것을 깨닫습니다.\n",
      "\n",
      "3. 크리스는 로즈의 가족이 흑인들의 몸을 빼앗아 자신들의 영혼을 이식하는 비밀스러운 활동을 한다는 충격적인 진실을 발견하고, 탈출을 시도합니다.\n"
     ]
    }
   ],
   "source": [
    "result3 = chain2.invoke({\"genre\":\"공포\"})\n",
    "print(result3)"
   ]
  },
  {
   "cell_type": "code",
   "execution_count": null,
   "id": "f4a9948f",
   "metadata": {},
   "outputs": [],
   "source": []
  }
 ],
 "metadata": {
  "kernelspec": {
   "display_name": "langchain-basic-kGdHTiMZ-py3.12",
   "language": "python",
   "name": "python3"
  },
  "language_info": {
   "codemirror_mode": {
    "name": "ipython",
    "version": 3
   },
   "file_extension": ".py",
   "mimetype": "text/x-python",
   "name": "python",
   "nbconvert_exporter": "python",
   "pygments_lexer": "ipython3",
   "version": "3.12.7"
  }
 },
 "nbformat": 4,
 "nbformat_minor": 5
}
