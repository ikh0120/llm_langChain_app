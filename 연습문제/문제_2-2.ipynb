{
 "cells": [
  {
   "cell_type": "markdown",
   "id": "fab09ae0",
   "metadata": {},
   "source": [
    "### 문제 2-2 : 영화 리뷰 감정 분석기"
   ]
  },
  {
   "cell_type": "code",
   "execution_count": 105,
   "id": "b38ff273",
   "metadata": {},
   "outputs": [
    {
     "name": "stdout",
     "output_type": "stream",
     "text": [
      "gs\n"
     ]
    }
   ],
   "source": [
    "import os\n",
    "from dotenv import load_dotenv\n",
    "\n",
    "load_dotenv()\n",
    "OPENAI_API_KEY = os.getenv(\"OPENAI_API_KEY\")\n",
    "print(OPENAI_API_KEY[:2])"
   ]
  },
  {
   "cell_type": "code",
   "execution_count": 106,
   "id": "e13d6c41",
   "metadata": {},
   "outputs": [],
   "source": [
    "from langchain_openai import ChatOpenAI\n",
    "from langchain_core.prompts import ChatPromptTemplate\n",
    "from langchain.output_parsers import EnumOutputParser, OutputFixingParser\n",
    "from langchain.schema import OutputParserException\n",
    "\n",
    "from enum import Enum\n",
    "from pprint import pprint\n",
    "\n",
    "from dotenv import load_dotenv\n"
   ]
  },
  {
   "cell_type": "code",
   "execution_count": 107,
   "id": "1574bf17",
   "metadata": {},
   "outputs": [],
   "source": [
    "class Sentiment(str, Enum):\n",
    "    POSITIVE = \"긍정\"\n",
    "    NEGATIVE = \"부정\"\n",
    "    NEUTRAL = \"중립\""
   ]
  },
  {
   "cell_type": "code",
   "execution_count": 108,
   "id": "1fae0adb",
   "metadata": {},
   "outputs": [],
   "source": [
    "enumParser = EnumOutputParser(enum=Sentiment)\n",
    "format_instructions = enumParser.get_format_instructions()"
   ]
  },
  {
   "cell_type": "code",
   "execution_count": 109,
   "id": "f38cba3c",
   "metadata": {},
   "outputs": [],
   "source": [
    "template = \"\"\"\n",
    "영화 리뷰 텍스트를 입력받아 감정을 \"긍정\", \"부정\", \"보통\" 중 하나로 분류하는 시스템을 만드세요.\n",
    "\n",
    "입력: \"{input}\"\n",
    "\n",
    "출력 파서: {format_instructions}\n",
    "\n",
    "중요 규칙:\n",
    "1. 반드시 \"긍정\", \"부정\", \"중립\" 중 하나의 단어만 출력하세요\n",
    "2. 다른 설명이나 부가 설명을 추가하지 마세요\n",
    "3. 이모지나 특수문자도 포함하지 마세요\n",
    "4. 오직 하나의 단어만 출력하세요\n",
    "\n",
    "\"\"\""
   ]
  },
  {
   "cell_type": "code",
   "execution_count": 110,
   "id": "af072382",
   "metadata": {},
   "outputs": [],
   "source": [
    "prompt = ChatPromptTemplate.from_template(template)\n",
    "prompt = prompt.partial(format_instructions=format_instructions)"
   ]
  },
  {
   "cell_type": "code",
   "execution_count": 111,
   "id": "e7010f80",
   "metadata": {},
   "outputs": [],
   "source": [
    "model = ChatOpenAI(\n",
    "    base_url=\"https://api.groq.com/openai/v1\",\n",
    "    model=\"meta-llama/llama-4-scout-17b-16e-instruct\",\n",
    "    temperature=0\n",
    ")"
   ]
  },
  {
   "cell_type": "code",
   "execution_count": 112,
   "id": "ea079ccc",
   "metadata": {},
   "outputs": [],
   "source": [
    "fixing_parser = OutputFixingParser.from_llm(parser=enumParser, llm=model)"
   ]
  },
  {
   "cell_type": "code",
   "execution_count": 113,
   "id": "6c4f4c98",
   "metadata": {},
   "outputs": [],
   "source": [
    "reviews = [\n",
    "    \"이 영화 정말 재미없어요. 시간 낭비였습니다.\",\n",
    "    \"배우들의 연기가 훌륭하고 스토리도 감동적이었어요!\",\n",
    "    \"그냥 무난한 영화였습니다. 나쁘지도 좋지도 않아요.\"\n",
    "]"
   ]
  },
  {
   "cell_type": "code",
   "execution_count": 114,
   "id": "6b3704b1",
   "metadata": {},
   "outputs": [],
   "source": [
    "def safe_def(review, use_fixing_parser=True):\n",
    "    try:\n",
    "        chain = prompt | model | (fixing_parser if use_fixing_parser else enumParser)\n",
    "        result = chain.invoke({\"input\": review})\n",
    "        \n",
    "        return result, None\n",
    "    \n",
    "    except OutputParserException as e:\n",
    "        return None, f\"파싱 오류: {e}\"\n",
    "    except Exception as e:\n",
    "        return None, f\"일반 오류: {e}\"\n"
   ]
  },
  {
   "cell_type": "code",
   "execution_count": 115,
   "id": "d8b054a6",
   "metadata": {},
   "outputs": [],
   "source": [
    "def run_def():\n",
    "    \n",
    "    success = 0\n",
    "    total = len(reviews)\n",
    "    \n",
    "    positive=0\n",
    "    negative=0\n",
    "    neutral=0\n",
    "    \n",
    "    for i, review in enumerate(reviews,1):\n",
    "        print(f\"\\n{i}.  {review}\")\n",
    "        \n",
    "        result, error = safe_def(review, use_fixing_parser=True)\n",
    "        \n",
    "        if result:\n",
    "            print(f\"    감정: {result.value}\")\n",
    "            success+=1\n",
    "            \n",
    "            if result == \"긍정\":\n",
    "                positive += 1\n",
    "            elif result == \"부정\":\n",
    "                negative += 1\n",
    "            else:\n",
    "                neutral += 1\n",
    "        else: \n",
    "            print(f\"    오류: {error}\")\n",
    "            \n",
    "            re_result, re_error = safe_def(review, use_fixing_parser=False)\n",
    "            \n",
    "            if re_result:\n",
    "                print(f\"    감정: {re_result}\")\n",
    "                success += 1\n",
    "                if re_result == \"긍정\":\n",
    "                    positive += 1\n",
    "                elif re_result == \"부정\":\n",
    "                    negative += 1\n",
    "                else:\n",
    "                    neutral += 1\n",
    "            else:\n",
    "                print(f\"    재시도 실패: {re_error}\")\n",
    "\n",
    "    print(\"결과\")\n",
    "    print(f\"긍정: {positive}\")\n",
    "    print(f\"부정: {negative}\")\n",
    "    print(f\"중립: {neutral}\")\n",
    "    print(f\"성공: {success}/{total} ({success/total*100:.1f}%)\")\n",
    "    print(f\"실패: {total-success}/{total} ({(total - success) / total*100:.1f}%)\")\n",
    "    "
   ]
  },
  {
   "cell_type": "code",
   "execution_count": 116,
   "id": "1ea6b079",
   "metadata": {},
   "outputs": [
    {
     "name": "stdout",
     "output_type": "stream",
     "text": [
      "\n",
      "1.  이 영화 정말 재미없어요. 시간 낭비였습니다.\n",
      "    감정: 부정\n",
      "\n",
      "2.  배우들의 연기가 훌륭하고 스토리도 감동적이었어요!\n",
      "    감정: 긍정\n",
      "\n",
      "3.  그냥 무난한 영화였습니다. 나쁘지도 좋지도 않아요.\n",
      "    감정: 중립\n",
      "결과\n",
      "긍정: 1\n",
      "부정: 1\n",
      "중립: 1\n",
      "성공: 3/3 (100.0%)\n",
      "실패: 0/3 (0.0%)\n"
     ]
    }
   ],
   "source": [
    "try: \n",
    "    run_def()\n",
    "except Exception as e:\n",
    "    print(f\"오류 내용: {e}\")"
   ]
  },
  {
   "cell_type": "code",
   "execution_count": null,
   "id": "c840e6b8",
   "metadata": {},
   "outputs": [],
   "source": []
  }
 ],
 "metadata": {
  "kernelspec": {
   "display_name": "langchain-basic-kGdHTiMZ-py3.12",
   "language": "python",
   "name": "python3"
  },
  "language_info": {
   "codemirror_mode": {
    "name": "ipython",
    "version": 3
   },
   "file_extension": ".py",
   "mimetype": "text/x-python",
   "name": "python",
   "nbconvert_exporter": "python",
   "pygments_lexer": "ipython3",
   "version": "3.12.7"
  }
 },
 "nbformat": 4,
 "nbformat_minor": 5
}
