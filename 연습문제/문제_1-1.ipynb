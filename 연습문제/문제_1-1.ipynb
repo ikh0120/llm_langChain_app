{
 "cells": [
  {
   "cell_type": "markdown",
   "id": "dcc472b5",
   "metadata": {},
   "source": [
    "### 문제 1-1: 기본 체인 만들기 - AI 요리사"
   ]
  },
  {
   "cell_type": "code",
   "execution_count": 22,
   "id": "d3a92611",
   "metadata": {},
   "outputs": [
    {
     "name": "stdout",
     "output_type": "stream",
     "text": [
      "gs\n"
     ]
    }
   ],
   "source": [
    "import os\n",
    "from dotenv import load_dotenv\n",
    "from langchain_core.prompts import ChatPromptTemplate\n",
    "from langchain_openai import ChatOpenAI\n",
    "from langchain_core.output_parsers import StrOutputParser\n",
    "from langchain_core.prompts import PromptTemplate\n",
    "\n",
    "load_dotenv()\n",
    "OPENAI_API_KEY = os.getenv(\"OPENAI_API_KEY\")\n",
    "print(OPENAI_API_KEY[:2])"
   ]
  },
  {
   "cell_type": "code",
   "execution_count": 27,
   "id": "b9745ea7",
   "metadata": {},
   "outputs": [],
   "source": [
    "prompt = PromptTemplate.from_template(\n",
    "    \"\"\"\n",
    "    사용자가 재료를 입력하면 그 재료로 만들 수 있는 요리를 추천해주는 간단한 AI 요리사를 만들어보세요.\"\n",
    "    {input}이 재료입니다. \n",
    "    \"\"\"\n",
    ")"
   ]
  },
  {
   "cell_type": "code",
   "execution_count": null,
   "id": "06a5d4e1",
   "metadata": {},
   "outputs": [],
   "source": [
    "llm = ChatOpenAI(\n",
    "    #api_key=OPENAI_API_KEY,\n",
    "    base_url=\"https://api.groq.com/openai/v1\",  # Groq API 엔드포인트\n",
    "    model=\"meta-llama/llama-4-scout-17b-16e-instruct\",\n",
    "    #model=\"mistral-saba-24b\",\n",
    "    temperature=0.7\n",
    ")"
   ]
  },
  {
   "cell_type": "code",
   "execution_count": 29,
   "id": "5b4bb459",
   "metadata": {},
   "outputs": [],
   "source": [
    "chain = prompt | llm | StrOutputParser()"
   ]
  },
  {
   "cell_type": "code",
   "execution_count": 36,
   "id": "1796bf94",
   "metadata": {},
   "outputs": [
    {
     "name": "stdout",
     "output_type": "stream",
     "text": [
      "추천 요리와 간단한 레시피\n",
      "사용자가 입력한 재료로 만들 수 있는 요리를 추천해 드리겠습니다.\n",
      "\n",
      "입력하신 재료는 토마토, 양파, 치즈입니다.\n",
      "\n",
      "이 재료를 사용하여 만들 수 있는 요리 몇 가지를 추천해 드리겠습니다.\n",
      "\n",
      "1. **토마토 치즈 샌드위치**: 신선한 토마토와 녹은 치즈를 샌드위치에 넣어 만드는 간단하지만 맛있는 요리입니다. 양파를 추가하여 더욱 풍부한 맛을 낼 수 있습니다.\n",
      "\n",
      "2. **양파와 토마토 치즈전**: 양파와 토마토를 잘게 썰어 치즈와 함께 전을 부쳐 먹는 요리입니다. 겉은 바삭하고 속은 부드러워서 아주 맛있습니다.\n",
      "\n",
      "3. **치즈 토마토 파스타**: 집에 있는 재료를 활용해 간단하게 만들 수 있는 파스타 요리입니다. 양파를 볶아 카라멜라이즈된 양파의 단맛과 토마토, 치즈를 섞어 파스타와 함께 즐기면 훌륭한 식사가 됩니다.\n",
      "\n",
      "4. **토마토와 양파 치즈 타르트**: 조금 더 특별하고 싶다면 타르트를 만들어보세요. 미리 만들어진 파이 crust에 토마토, 양파, 치즈를 층층이 쌓아 오븐에 구워내면 풍미가 가득한 요리가 완성됩니다.\n",
      "\n",
      "이 외에도 다양한 요리들이 있겠지만, 이 몇 가지 요리들이 간단하면서도 맛있게 즐길 수 있는 방법들입니다. 요리하시면서 필요한 추가 재료가 있으시면 언제든지 말씀해 주세요! 더 많은 아이디어를 드릴 수 있습니다.\n"
     ]
    }
   ],
   "source": [
    "try:\n",
    "    result = chain.invoke({\"input\":\"토마토, 양파, 치즈\"})\n",
    "    print(\"추천 요리와 간단한 레시피\")\n",
    "    print(result)\n",
    "except Exception as e:\n",
    "    print(f\"오류 내용: {e}\")"
   ]
  },
  {
   "cell_type": "code",
   "execution_count": null,
   "id": "ae6ed930",
   "metadata": {},
   "outputs": [],
   "source": []
  }
 ],
 "metadata": {
  "kernelspec": {
   "display_name": "langchain-basic-kGdHTiMZ-py3.12",
   "language": "python",
   "name": "python3"
  },
  "language_info": {
   "codemirror_mode": {
    "name": "ipython",
    "version": 3
   },
   "file_extension": ".py",
   "mimetype": "text/x-python",
   "name": "python",
   "nbconvert_exporter": "python",
   "pygments_lexer": "ipython3",
   "version": "3.12.7"
  }
 },
 "nbformat": 4,
 "nbformat_minor": 5
}
