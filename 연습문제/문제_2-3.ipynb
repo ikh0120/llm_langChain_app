{
 "cells": [
  {
   "cell_type": "markdown",
   "id": "8176f937",
   "metadata": {},
   "source": [
    "### 문제 2-3: 학생 정보 구조화 시스템"
   ]
  },
  {
   "cell_type": "code",
   "execution_count": 23,
   "id": "730b7f0a",
   "metadata": {},
   "outputs": [
    {
     "name": "stdout",
     "output_type": "stream",
     "text": [
      "gs\n"
     ]
    }
   ],
   "source": [
    "import os\n",
    "from dotenv import load_dotenv\n",
    "\n",
    "load_dotenv()\n",
    "\n",
    "OPENAI_API_KEY = os.getenv(\"OPENAI_API_KEY\")\n",
    "print(OPENAI_API_KEY[:2])"
   ]
  },
  {
   "cell_type": "code",
   "execution_count": 24,
   "id": "ff839247",
   "metadata": {},
   "outputs": [],
   "source": [
    "from langchain_core.prompts import ChatPromptTemplate\n",
    "from langchain.output_parsers import PydanticOutputParser\n",
    "from langchain_openai import ChatOpenAI\n",
    "\n",
    "from pydantic import BaseModel, Field\n",
    "from typing import List"
   ]
  },
  {
   "cell_type": "code",
   "execution_count": 25,
   "id": "7da6932d",
   "metadata": {},
   "outputs": [],
   "source": [
    "# Pydantic 모델 정의\n",
    "class PydanticModel(BaseModel):\n",
    "    name: str = Field(description=\"이름\")\n",
    "    age: int = Field(description=\"나이\")\n",
    "    major: str = Field(description=\"전공\")\n",
    "    hobbies: List[str] = Field(description=\"취미 리스트\")\n",
    "    goal: str = Field(description=\"목표\")"
   ]
  },
  {
   "cell_type": "code",
   "execution_count": 26,
   "id": "5f9c1e0b",
   "metadata": {},
   "outputs": [],
   "source": [
    "# 출력 파서 초기화\n",
    "parser = PydanticOutputParser(pydantic_object=PydanticModel)"
   ]
  },
  {
   "cell_type": "code",
   "execution_count": 27,
   "id": "ee8938d8",
   "metadata": {},
   "outputs": [],
   "source": [
    "template=\"\"\"\n",
    "학생의 자유 형식 자기소개를 입력받아 이름, 나이, 전공, 취미 리스트, 목표를 \n",
    "    구조화된 형태로 추출하는 시스템을 만드세요.\n",
    "다음 요청을 분석하여 \n",
    "이름, 나이, 전공, 취미 리스트, 목표\n",
    "로 나눠 출력형식에 맞춰 JSON으로 추출하세요. \n",
    "\n",
    "요청: {query}\n",
    "출력 형식: {format_instructions}\n",
    "\"\"\""
   ]
  },
  {
   "cell_type": "code",
   "execution_count": 28,
   "id": "a2e98d5c",
   "metadata": {},
   "outputs": [],
   "source": [
    "prompt = ChatPromptTemplate.from_template(template=template)"
   ]
  },
  {
   "cell_type": "code",
   "execution_count": 29,
   "id": "ecf749f9",
   "metadata": {},
   "outputs": [],
   "source": [
    "prompt = prompt.partial(format_instructions = parser.get_format_instructions())"
   ]
  },
  {
   "cell_type": "code",
   "execution_count": 30,
   "id": "471ff5ea",
   "metadata": {},
   "outputs": [],
   "source": [
    "model = ChatOpenAI(\n",
    "    base_url=\"https://api.groq.com/openai/v1\",\n",
    "    model=\"meta-llama/llama-4-scout-17b-16e-instruct\",\n",
    "    temperature=0\n",
    ")"
   ]
  },
  {
   "cell_type": "code",
   "execution_count": 31,
   "id": "b6b36dce",
   "metadata": {},
   "outputs": [],
   "source": [
    "query = \"안녕하세요! 저는 김민수이고 22살입니다. 컴퓨터공학을 전공하고 있어요. 취미로는 게임하기, 영화보기, 코딩을 좋아합니다. 앞으로 훌륭한 개발자가 되는 것이 목표입니다.\"\n",
    "chain = prompt | model | parser\n",
    "result = chain.invoke({\"query\": query})\n"
   ]
  },
  {
   "cell_type": "code",
   "execution_count": 35,
   "id": "593208bd",
   "metadata": {},
   "outputs": [
    {
     "name": "stdout",
     "output_type": "stream",
     "text": [
      "{\n",
      "    \"name\": 김민수, \n",
      "    \"age\": 22, \n",
      "    \"major\": 컴퓨터공학,\n",
      "    \"hobbies\": ['게임하기', '영화보기', '코딩'],\n",
      "    \"goal\": 훌륭한 개발자가 되는 것\n",
      "}\n"
     ]
    }
   ],
   "source": [
    "print(f\"\"\"{{\n",
    "    \"name\": {result.name}, \n",
    "    \"age\": {result.age}, \n",
    "    \"major\": {result.major},\n",
    "    \"hobbies\": {result.hobbies},\n",
    "    \"goal\": {result.goal}\n",
    "}}\"\"\")"
   ]
  },
  {
   "cell_type": "code",
   "execution_count": null,
   "id": "0e1f035a",
   "metadata": {},
   "outputs": [],
   "source": []
  }
 ],
 "metadata": {
  "kernelspec": {
   "display_name": "langchain-basic-kGdHTiMZ-py3.12",
   "language": "python",
   "name": "python3"
  },
  "language_info": {
   "codemirror_mode": {
    "name": "ipython",
    "version": 3
   },
   "file_extension": ".py",
   "mimetype": "text/x-python",
   "name": "python",
   "nbconvert_exporter": "python",
   "pygments_lexer": "ipython3",
   "version": "3.12.7"
  }
 },
 "nbformat": 4,
 "nbformat_minor": 5
}
