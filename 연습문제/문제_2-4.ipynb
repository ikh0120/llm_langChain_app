{
 "cells": [
  {
   "cell_type": "markdown",
   "id": "409cf251",
   "metadata": {},
   "source": [
    "### 문제 2-4 : 여행 계획 분석기"
   ]
  },
  {
   "cell_type": "code",
   "execution_count": 4,
   "id": "79c63675",
   "metadata": {},
   "outputs": [],
   "source": [
    "import pandas as pd\n",
    "from langchain.output_parsers import StructuredOutputParser, ResponseSchema\n",
    "from langchain_core.prompts import PromptTemplate\n",
    "from langchain_openai import ChatOpenAI"
   ]
  },
  {
   "cell_type": "code",
   "execution_count": 5,
   "id": "11b43109",
   "metadata": {},
   "outputs": [],
   "source": [
    "model = ChatOpenAI(temperature=1.0, model_name=\"gpt-4o\")"
   ]
  },
  {
   "cell_type": "code",
   "execution_count": 6,
   "id": "b5f4df06",
   "metadata": {},
   "outputs": [],
   "source": [
    "# data라는 키 값으로 응답의 \"테이블의 행을 나타내는 딕셔너리\"값들이 들어감\n",
    "response_schemas = [ \n",
    "    ResponseSchema(\n",
    "        name=\"response_dict\", \n",
    "        description=\"테이블의 행을 나타내는 딕셔너리\"\n",
    "    ),\n",
    "    ResponseSchema(\n",
    "        name=\"keys\",\n",
    "        description=\"테이블의 행을 나타내는 딕셔너리의 키\"\n",
    "    ),\n",
    "    ResponseSchema(\n",
    "        name=\"shape\",\n",
    "        description=\"테이블의 크기를 (행, 열)로 나타냄\"\n",
    "    )\n",
    "]\n",
    "\n",
    "parser = StructuredOutputParser(\n",
    "    response_schemas=response_schemas\n",
    ")"
   ]
  },
  {
   "cell_type": "code",
   "execution_count": 7,
   "id": "01eebdad",
   "metadata": {},
   "outputs": [
    {
     "name": "stdout",
     "output_type": "stream",
     "text": [
      "\n",
      "    5개의 필드를 정의하여 정보 추출, 자연어 텍스트에서 핵심 정보 파싱\n",
      "\n",
      "    여행 후기나 계획 텍스트를 입력받아 \n",
      "    여행지, 기간, 예산, 추천도(1-5점), \n",
      "    주요 활동 리스트를 구조화된 형태로 추출하는 시스템을 만드세요.\n",
      "\n",
      "    응답을 JSON 형식으로 반환할건데 JSON 응답 형식의 키를 \n",
      "    'destination', \n",
      "    'duration', \n",
      "    'budget', \n",
      "    'rating', \n",
      "    'activities'\n",
      "    로 구성해줘\n",
      "\n",
      "    응답 스키마: {format_instructions}\n",
      "\n",
      "    사용자 입력: {query}\n",
      "    \n",
      "{'format_instructions': 'The output should be a markdown code snippet formatted in the following schema, including the leading and trailing \"```json\" and \"```\":\\n\\n```json\\n{\\n\\t\"response_dict\": string  // 테이블의 행을 나타내는 딕셔너리\\n\\t\"keys\": string  // 테이블의 행을 나타내는 딕셔너리의 키\\n\\t\"shape\": string  // 테이블의 크기를 (행, 열)로 나타냄\\n}\\n```'}\n"
     ]
    }
   ],
   "source": [
    "prompt = PromptTemplate(\n",
    "    template=\"\"\"\n",
    "    5개의 필드를 정의하여 정보 추출, 자연어 텍스트에서 핵심 정보 파싱\n",
    "    \n",
    "    여행 후기나 계획 텍스트를 입력받아 \n",
    "    여행지, 기간, 예산, 추천도(1-5점), \n",
    "    주요 활동 리스트를 구조화된 형태로 추출하는 시스템을 만드세요.\n",
    "    \n",
    "    응답을 JSON 형식으로 반환할건데 JSON 응답 형식의 키를 \n",
    "    'destination', \n",
    "    'duration', \n",
    "    'budget', \n",
    "    'rating', \n",
    "    'activities'\n",
    "    로 구성해줘\n",
    "    \n",
    "    응답 스키마: {format_instructions}\n",
    "    \n",
    "    사용자 입력: {query}\n",
    "    \"\"\",\n",
    "    input_variables=[\"query\"],\n",
    "    partial_variables={\n",
    "        \"format_instructions\": parser.get_format_instructions()\n",
    "    }\n",
    ")\n",
    "print(prompt.template)\n",
    "print(prompt.partial_variables)"
   ]
  },
  {
   "cell_type": "code",
   "execution_count": 8,
   "id": "51a45daf",
   "metadata": {},
   "outputs": [],
   "source": [
    "chain = prompt | model | parser"
   ]
  },
  {
   "cell_type": "code",
   "execution_count": 9,
   "id": "ba06ca88",
   "metadata": {},
   "outputs": [],
   "source": [
    "def for_dataframe(user_query):\n",
    "    try:\n",
    "        json_res = chain.invoke({\"query\": user_query})\n",
    "        # print(f\"json_res: {json_res}\")\n",
    "        print(\"json_res[\\\"shape\\\"]: \", json_res[\"shape\"])\n",
    "        print(\"json_res[\\\"keys\\\"]: \", json_res[\"keys\"])\n",
    "        \n",
    "        df = pd.DataFrame(json_res[\"response_dict\"])\n",
    "        print(\"\\n결과: \\n\")\n",
    "        return df\n",
    "        \n",
    "    except Exception as e:\n",
    "        print(f\"오류: {e}\")\n",
    "        return None"
   ]
  },
  {
   "cell_type": "code",
   "execution_count": 10,
   "id": "295938af",
   "metadata": {},
   "outputs": [
    {
     "name": "stdout",
     "output_type": "stream",
     "text": [
      "여행 계획 분석기 for pandas.DataFrame\n",
      "json_res[\"shape\"]:  (1, 5)\n",
      "json_res[\"keys\"]:  ['destination', 'duration', 'budget', 'rating', 'activities']\n",
      "\n",
      "결과: \n",
      "\n"
     ]
    },
    {
     "data": {
      "text/html": [
       "<div>\n",
       "<style scoped>\n",
       "    .dataframe tbody tr th:only-of-type {\n",
       "        vertical-align: middle;\n",
       "    }\n",
       "\n",
       "    .dataframe tbody tr th {\n",
       "        vertical-align: top;\n",
       "    }\n",
       "\n",
       "    .dataframe thead th {\n",
       "        text-align: right;\n",
       "    }\n",
       "</style>\n",
       "<table border=\"1\" class=\"dataframe\">\n",
       "  <thead>\n",
       "    <tr style=\"text-align: right;\">\n",
       "      <th></th>\n",
       "      <th>destination</th>\n",
       "      <th>duration</th>\n",
       "      <th>budget</th>\n",
       "      <th>rating</th>\n",
       "      <th>activities</th>\n",
       "    </tr>\n",
       "  </thead>\n",
       "  <tbody>\n",
       "    <tr>\n",
       "      <th>0</th>\n",
       "      <td>부산</td>\n",
       "      <td>2박 3일</td>\n",
       "      <td>30만원</td>\n",
       "      <td>4</td>\n",
       "      <td>해운대 바다 구경</td>\n",
       "    </tr>\n",
       "    <tr>\n",
       "      <th>1</th>\n",
       "      <td>부산</td>\n",
       "      <td>2박 3일</td>\n",
       "      <td>30만원</td>\n",
       "      <td>4</td>\n",
       "      <td>자갈치시장 회 먹기</td>\n",
       "    </tr>\n",
       "    <tr>\n",
       "      <th>2</th>\n",
       "      <td>부산</td>\n",
       "      <td>2박 3일</td>\n",
       "      <td>30만원</td>\n",
       "      <td>4</td>\n",
       "      <td>감천문화마을 구경</td>\n",
       "    </tr>\n",
       "  </tbody>\n",
       "</table>\n",
       "</div>"
      ],
      "text/plain": [
       "  destination duration budget  rating  activities\n",
       "0          부산    2박 3일   30만원       4   해운대 바다 구경\n",
       "1          부산    2박 3일   30만원       4  자갈치시장 회 먹기\n",
       "2          부산    2박 3일   30만원       4   감천문화마을 구경"
      ]
     },
     "execution_count": 10,
     "metadata": {},
     "output_type": "execute_result"
    }
   ],
   "source": [
    "print(\"여행 계획 분석기 for pandas.DataFrame\")\n",
    "df_travil_planner = for_dataframe(\n",
    "    \"지난 주에 부산으로 2박 3일 여행을 다녀왔어요. \\\n",
    "        총 30만원 정도 썼는데 해운대에서 바다구경하고, 자갈치시장에서 회 먹고, 감천문화마을도 구경했어요. \\\n",
    "            정말 만족스러운 여행이었습니다. \\\n",
    "                5점 만점에 4점 정도 줄 수 있을 것 같아요.\"\n",
    ")\n",
    "\n",
    "df_travil_planner"
   ]
  },
  {
   "cell_type": "code",
   "execution_count": 78,
   "id": "565189bd",
   "metadata": {},
   "outputs": [],
   "source": [
    "import json\n",
    "\n",
    "def for_json(user_query):\n",
    "    try: \n",
    "        json_response = chain.invoke({\"query\": user_query})\n",
    "        \n",
    "        result = json_response.get(\"response_dict\", {})\n",
    "        \n",
    "        # result[\"activities\"] = json.dumps(result[\"activities\"], ensure_ascii=False, separators=(',', ':'))\n",
    "        str = '[ '\n",
    "        if result[\"activities\"]:\n",
    "            for items in result[\"activities\"]:\n",
    "                str += items + ', '\n",
    "        result[\"activities\"] = str[:-2] + \" ]\"\n",
    "        result[\"activities\"].replace(\"\\\"\", \"\")\n",
    "        return result\n",
    "\n",
    "    except Exception as e:\n",
    "        print(f\"오류: {e}\")"
   ]
  },
  {
   "cell_type": "code",
   "execution_count": 79,
   "id": "e977e444",
   "metadata": {},
   "outputs": [
    {
     "name": "stdout",
     "output_type": "stream",
     "text": [
      "여행 계획 분석기 for JSON\n",
      "{\n",
      "    \"destination\": \"부산\",\n",
      "    \"duration\": \"2박 3일\",\n",
      "    \"budget\": \"30만원\",\n",
      "    \"rating\": 4,\n",
      "    \"activities\": \"[ 해운대에서 바다구경, 자갈치시장에서 회 먹기, 감천문화마을 구경 ]\"\n",
      "}\n",
      "<class 'str'>\n"
     ]
    }
   ],
   "source": [
    "print(\"여행 계획 분석기 for JSON\")\n",
    "json_travil_planner = for_json(\n",
    "    \"지난 주에 부산으로 2박 3일 여행을 다녀왔어요. \\\n",
    "        총 30만원 정도 썼는데 해운대에서 바다구경하고, 자갈치시장에서 회 먹고, 감천문화마을도 구경했어요. \\\n",
    "            정말 만족스러운 여행이었습니다. \\\n",
    "                5점 만점에 4점 정도 줄 수 있을 것 같아요.\"\n",
    ")\n",
    "\n",
    "\n",
    "print(json.dumps(json_travil_planner, indent=4, ensure_ascii=False))\n",
    "\n",
    "print(type(json_travil_planner[\"activities\"]))"
   ]
  },
  {
   "cell_type": "code",
   "execution_count": null,
   "id": "7c88597b",
   "metadata": {},
   "outputs": [],
   "source": []
  }
 ],
 "metadata": {
  "kernelspec": {
   "display_name": "langchain-basic-kGdHTiMZ-py3.12",
   "language": "python",
   "name": "python3"
  },
  "language_info": {
   "codemirror_mode": {
    "name": "ipython",
    "version": 3
   },
   "file_extension": ".py",
   "mimetype": "text/x-python",
   "name": "python",
   "nbconvert_exporter": "python",
   "pygments_lexer": "ipython3",
   "version": "3.12.7"
  }
 },
 "nbformat": 4,
 "nbformat_minor": 5
}
