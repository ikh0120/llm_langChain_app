{
 "cells": [
  {
   "cell_type": "markdown",
   "id": "590489c9",
   "metadata": {},
   "source": [
    "### 문제 2-1 : 콤마 구분 리스트 파서 활용"
   ]
  },
  {
   "cell_type": "code",
   "execution_count": 18,
   "id": "c0447007",
   "metadata": {},
   "outputs": [
    {
     "name": "stdout",
     "output_type": "stream",
     "text": [
      "sk\n"
     ]
    }
   ],
   "source": [
    "import os\n",
    "from dotenv import load_dotenv\n",
    "\n",
    "load_dotenv()\n",
    "OPENAI_API_KEY = os.getenv(\"OPENAI_API_KEY\")\n",
    "print(OPENAI_API_KEY[:2])"
   ]
  },
  {
   "cell_type": "code",
   "execution_count": 19,
   "id": "d43e2ce8",
   "metadata": {},
   "outputs": [],
   "source": [
    "from langchain_core.output_parsers import CommaSeparatedListOutputParser\n",
    "from langchain_core.prompts import PromptTemplate\n",
    "from langchain_openai import ChatOpenAI\n",
    "import csv\n",
    "from pprint import pprint\n"
   ]
  },
  {
   "cell_type": "code",
   "execution_count": 20,
   "id": "e7d05b1e",
   "metadata": {},
   "outputs": [],
   "source": [
    "parser = CommaSeparatedListOutputParser()"
   ]
  },
  {
   "cell_type": "code",
   "execution_count": 21,
   "id": "ee6d9e5a",
   "metadata": {},
   "outputs": [],
   "source": [
    "format_instructions = parser.get_format_instructions()"
   ]
  },
  {
   "cell_type": "code",
   "execution_count": 22,
   "id": "bbd8f6d0",
   "metadata": {},
   "outputs": [],
   "source": [
    "prompt = PromptTemplate(\n",
    "    template = \"사용자가 관심있는 분야(예: \\\"음식\\\", \\\"스포츠\\\", \\\"영화\\\" 등)를 입력하면, \\\n",
    "        해당 분야와 관련된 한국의 유명한 장소나 활동 5가지를 콤마로 구분된 리스트로 출력하는 프로그램을 작성하세요.\\\n",
    "            분야: {input}\\\n",
    "                format_instructions: {format_instructions}\\\n",
    "    \",\n",
    "    input_variables = [\"input\"],\n",
    "    partial_variables={\"format_instructions\": format_instructions}\n",
    ")\n"
   ]
  },
  {
   "cell_type": "code",
   "execution_count": 23,
   "id": "0fa79b1b",
   "metadata": {},
   "outputs": [],
   "source": [
    "model = ChatOpenAI(model=\"gpt-4o\", temperature=0)"
   ]
  },
  {
   "cell_type": "code",
   "execution_count": 24,
   "id": "7e3d9e6f",
   "metadata": {},
   "outputs": [],
   "source": [
    "chain = prompt | model | parser"
   ]
  },
  {
   "cell_type": "code",
   "execution_count": 25,
   "id": "e3516d10",
   "metadata": {},
   "outputs": [],
   "source": [
    "input_list = [\"음식\", \"스포츠\", \"영화\"]"
   ]
  },
  {
   "cell_type": "code",
   "execution_count": 26,
   "id": "75eb8de5",
   "metadata": {},
   "outputs": [
    {
     "name": "stdout",
     "output_type": "stream",
     "text": [
      "분야: 음식\n",
      "['광장시장', '전주 한옥마을', '부산 국제시장', '강릉 중앙시장', '제주 동문시장']\n",
      "\n",
      "분야: 스포츠\n",
      "['잠실종합운동장', '상암월드컵경기장', '인제 스피디움', '강릉 스피드 스케이팅 경기장', '제주 유나이티드 축구 경기장']\n",
      "\n",
      "분야: 영화\n",
      "['부산국제영화제', '전주국제영화제', '서울아트시네마', '충무로 영화의 거리', 'CGV 용산아이파크몰 4DX관']\n",
      "\n"
     ]
    }
   ],
   "source": [
    "for field in input_list:\n",
    "    print(f\"분야: {field}\")\n",
    "    print(chain.invoke({\"input\": field}))\n",
    "    print()"
   ]
  },
  {
   "cell_type": "code",
   "execution_count": null,
   "id": "12264190",
   "metadata": {},
   "outputs": [],
   "source": []
  }
 ],
 "metadata": {
  "kernelspec": {
   "display_name": "langchain-basic-kGdHTiMZ-py3.12",
   "language": "python",
   "name": "python3"
  },
  "language_info": {
   "codemirror_mode": {
    "name": "ipython",
    "version": 3
   },
   "file_extension": ".py",
   "mimetype": "text/x-python",
   "name": "python",
   "nbconvert_exporter": "python",
   "pygments_lexer": "ipython3",
   "version": "3.12.7"
  }
 },
 "nbformat": 4,
 "nbformat_minor": 5
}
