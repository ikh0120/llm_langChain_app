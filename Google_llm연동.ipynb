{
 "cells": [
  {
   "cell_type": "code",
   "execution_count": 3,
   "id": "1c5e3e94",
   "metadata": {},
   "outputs": [
    {
     "name": "stdout",
     "output_type": "stream",
     "text": [
      "AI\n"
     ]
    }
   ],
   "source": [
    "import os\n",
    "from dotenv import load_dotenv\n",
    "\n",
    "load_dotenv()\n",
    "GOOGLE_API_KEY = os.getenv(\"GOOGLE_API_KEY\")\n",
    "print(GOOGLE_API_KEY[:2])"
   ]
  },
  {
   "cell_type": "code",
   "execution_count": 4,
   "id": "ef003594",
   "metadata": {},
   "outputs": [
    {
     "name": "stdout",
     "output_type": "stream",
     "text": [
      " Google Gemini Response:\n",
      "LangChain은 대규모 언어 모델(LLM)을 애플리케이션에 통합하기 위한 프레임워크입니다.  단순히 LLM을 호출하는 것 이상으로,  LLM의 기능을 확장하고, 다양한 데이터 소스와 상호 작용하며, 메모리 및 상태 관리를 통해 더욱 강력하고 유용한 애플리케이션을 구축할 수 있도록 지원합니다.  핵심 기능은 다음과 같습니다.\n",
      "\n",
      "* **모듈성:** LangChain은 다양한 LLM, 프로세서, 메모리, 데이터 연결 등을 모듈화하여 사용자가 필요에 따라 구성하고 조합할 수 있도록 합니다.  이는 특정 LLM에 종속되지 않고, 다양한 LLM을 손쉽게 교체하거나 여러 LLM을 함께 사용할 수 있음을 의미합니다.\n",
      "\n",
      "* **LLM과의 상호 작용:**  LangChain은 OpenAI, Hugging Face Hub, Cohere 등 다양한 LLM 제공업체와의 통합을 지원합니다.  단순히 API 호출을 넘어,  프롬프트 엔지니어링, 체이닝(chaining), 외부 데이터 소스 활용 등을 통해 LLM의 성능을 극대화할 수 있습니다.\n",
      "\n",
      "* **메모리 관리:**  대화형 애플리케이션에서 이전 대화 내용을 기억하고 활용하는 것은 중요합니다. LangChain은 다양한 메모리 관리 방식을 제공하여 LLM이 이전 상호 작용을 기억하고, 맥락을 유지하며 일관된 응답을 생성하도록 지원합니다.\n",
      "\n",
      "* **외부 데이터 소스 통합:**  LangChain은 데이터베이스, 파일 시스템, 웹 API 등 다양한 외부 데이터 소스와의 연결을 지원합니다.  LLM은 이러한 데이터를 활용하여 더욱 정확하고 정보가 풍부한 응답을 생성할 수 있습니다.\n",
      "\n",
      "* **체이닝(Chaining):** 여러 LLM 또는 다른 유형의 프로세서를 순차적으로 연결하여 복잡한 작업을 수행할 수 있습니다.  예를 들어, 하나의 LLM은 질문을 분석하고, 다른 LLM은 답변을 생성하고, 또 다른 프로세서는 답변을 검증하는 등의 작업을 수행할 수 있습니다.\n",
      "\n",
      "* **에이전트(Agents):**  LangChain은 에이전트를 통해 LLM이 외부 도구(예: 검색 엔진, 계산기)를 자율적으로 사용하여 작업을 수행할 수 있도록 지원합니다.  이는 LLM의 기능을 훨씬 뛰어넘는 복잡한 작업을 자동화하는 데 유용합니다.\n",
      "\n",
      "\n",
      "**LangChain의 장점:**\n",
      "\n",
      "* **개발 속도 향상:**  모듈화된 구성 요소와 다양한 통합 기능을 통해 LLM 기반 애플리케이션 개발 시간을 단축할 수 있습니다.\n",
      "* **유연성:**  다양한 LLM, 데이터 소스, 메모리 관리 방식을 선택하고 조합할 수 있습니다.\n",
      "* **확장성:**  모듈화된 아키텍처 덕분에 애플리케이션을 쉽게 확장할 수 있습니다.\n",
      "\n",
      "\n",
      "**LangChain의 단점:**\n",
      "\n",
      "* **복잡성:**  다양한 기능과 구성 요소 때문에 초보자에게는 다소 복잡하게 느껴질 수 있습니다.\n",
      "* **학습 곡선:**  LangChain을 효과적으로 사용하려면 LLM과 관련 기술에 대한 충분한 이해가 필요합니다.\n",
      "\n",
      "\n",
      "결론적으로, LangChain은 LLM 기반 애플리케이션 개발을 위한 강력하고 유연한 프레임워크입니다.  복잡한 애플리케이션을 구축하고자 하는 개발자에게는 매우 유용한 도구이지만,  초보자는 다소 높은 진입 장벽을 극복해야 할 수 있습니다.\n"
     ]
    }
   ],
   "source": [
    "from langchain_google_genai import ChatGoogleGenerativeAI\n",
    "from langchain_core.prompts import ChatPromptTemplate\n",
    "    \n",
    "# API 키 설정\n",
    "# os.environ[\"GOOGLE_API_KEY\"] = \"your-google-api-key\"\n",
    "\n",
    "# 모델 초기화\n",
    "llm = ChatGoogleGenerativeAI(\n",
    "    model=\"gemini-1.5-flash\",  # 또는 \"gemini-pro-vision\"\n",
    "    temperature=0.3    \n",
    ")\n",
    "\n",
    "# 프롬프트 설정\n",
    "prompt = ChatPromptTemplate.from_messages([\n",
    "    (\"system\", \"당신은 AI 전문가입니다다.\"),\n",
    "    (\"human\", \"{topic}은 무엇인가요?\")\n",
    "])\n",
    "\n",
    "# 체인 실행\n",
    "chain = prompt | llm\n",
    "response = chain.invoke({\"topic\": \"LangChain\"})\n",
    "\n",
    "print(\" Google Gemini Response:\")\n",
    "print(response.content)"
   ]
  },
  {
   "cell_type": "code",
   "execution_count": null,
   "id": "a5b21005",
   "metadata": {},
   "outputs": [],
   "source": []
  }
 ],
 "metadata": {
  "kernelspec": {
   "display_name": "langchain-basic-kGdHTiMZ-py3.12",
   "language": "python",
   "name": "python3"
  },
  "language_info": {
   "codemirror_mode": {
    "name": "ipython",
    "version": 3
   },
   "file_extension": ".py",
   "mimetype": "text/x-python",
   "name": "python",
   "nbconvert_exporter": "python",
   "pygments_lexer": "ipython3",
   "version": "3.12.7"
  }
 },
 "nbformat": 4,
 "nbformat_minor": 5
}
